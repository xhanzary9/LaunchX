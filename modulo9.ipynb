{
 "cells": [
  {
   "cell_type": "markdown",
   "metadata": {},
   "source": [
    "# Ejercicio: Uso de funciones en Python\n",
    "#### Ejercicio 1: Trabajar con argumentos en funciones\n",
    "\n",
    "Los argumentos requeridos en las funciones se utilizan cuando las funciones necesitan que esos argumentos funcionen correctamente. En este ejercicio, construirás un informe de combustible que requiere información de varias ubicaciones de combustible en todo el cohete.\n",
    "\n",
    "Comienza por crear una función que necesite tres lecturas de combustible y devuelva un informe:"
   ]
  },
  {
   "cell_type": "code",
   "execution_count": 9,
   "metadata": {},
   "outputs": [],
   "source": [
    "# Función para leer 3 tanques de combustible y muestre el promedio\n",
    "\n",
    "def informe_conbustible(tanque1, tanque2,tanque3):\n",
    "    prom = (tanque1+tanque2+tanque3)/3\n",
    "    return f'''*Tanque 1 contiene {tanque1}\n",
    "    *Tanque 2 contiene {tanque2} \n",
    "    *Tanque 3 contiene {tanque3} \n",
    "    --Promedio de conbustible en la nave {prom}'''"
   ]
  },
  {
   "cell_type": "markdown",
   "metadata": {},
   "source": [
    "Ahora que hemos definido la función de informes, vamos a comprobarlo. Para esta misión, los tanques no están llenos:"
   ]
  },
  {
   "cell_type": "code",
   "execution_count": 15,
   "metadata": {},
   "outputs": [
    {
     "data": {
      "text/plain": [
       "'*Tanque 1 contiene 20\\n    *Tanque 2 contiene 50 \\n    *Tanque 3 contiene 60 \\n    --Promedio de conbustible en la nave 43.333333333333336'"
      ]
     },
     "execution_count": 15,
     "metadata": {},
     "output_type": "execute_result"
    }
   ],
   "source": [
    "# Llamamos a la función que genera el reporte print(funcion(tanque1, tanque2, tanque3))\n",
    "informe_conbustible(20,50,60)"
   ]
  },
  {
   "cell_type": "markdown",
   "metadata": {},
   "source": [
    "En lugar de simplemente crear el informe, la función también está calculando el promedio. Mejora la legibilidad extrayendo el cálculo promedio de la función en una nueva función para que el promedio se pueda hacer de forma independiente:"
   ]
  },
  {
   "cell_type": "code",
   "execution_count": 11,
   "metadata": {},
   "outputs": [],
   "source": [
    "# Función promedio \n",
    "def promedio(*args):\n",
    "    return sum(args)/3"
   ]
  },
  {
   "cell_type": "markdown",
   "metadata": {},
   "source": [
    "Ahora actualiza la función de informes para llamando a la nueva función del promedio:"
   ]
  },
  {
   "cell_type": "code",
   "execution_count": 16,
   "metadata": {},
   "outputs": [
    {
     "data": {
      "text/plain": [
       "'*Tanque 1 contiene 20\\n    *Tanque 2 contiene 50 \\n    *Tanque 3 contiene 60 \\n    --Promedio de conbustible en la nave 43.333333333333336'"
      ]
     },
     "execution_count": 16,
     "metadata": {},
     "output_type": "execute_result"
    }
   ],
   "source": [
    "# Actualiza la función\n",
    "def informe_conbustible_actualizada(tanque1, tanque2,tanque3):\n",
    "    prom = promedio(tanque1, tanque2,tanque3)\n",
    "    return f'''*Tanque 1 contiene {tanque1}\n",
    "    *Tanque 2 contiene {tanque2} \n",
    "    *Tanque 3 contiene {tanque3} \n",
    "    --Promedio de conbustible en la nave {prom}'''\n",
    "\n",
    "informe_conbustible_actualizada(20,50,60)"
   ]
  },
  {
   "cell_type": "markdown",
   "metadata": {},
   "source": [
    "# Ejercicio 2: Trabajo con argumentos de palabra clave\n",
    "#### Ejercicio : Trabajar con argumentos de palabras clave en funciones\n",
    "\n",
    "En este ejercicio, construirás un informe de cohete que requiere varias piezas de información, como el tiempo hasta el destino, el combustible a la izquierda y el nombre del destino. Comienza por crear una función que creará un informe preciso de la misión:"
   ]
  },
  {
   "cell_type": "code",
   "execution_count": 17,
   "metadata": {},
   "outputs": [
    {
     "data": {
      "text/plain": [
       "'Hola viajeros! (O_O) pip pip\\n    ---- Aquí un informe de la mision ----\\n    Este viaje comienza a las 10:20 del dia Tuesday 15 February 2022\\n    El tiempo estimado de vuelo es de 21 horas\\n    Nos dirijimos hacia Venus\\n    El combustible en el tanque externo es de 90 %\\n    El combustible en el tanque interno es de 50 %\\n    Disfruten su viaje ... pip pip (O_O)'"
      ]
     },
     "execution_count": 17,
     "metadata": {},
     "output_type": "execute_result"
    }
   ],
   "source": [
    "# Función con un informe preciso de la misión. Considera hora de prelanzamiento, tiempo de vuelo, destino, tanque externo y tanque interno\n",
    "import datetime\n",
    "\n",
    "def informe_preciso(hora_lanzamiento,tiempo_vuelo,destino,conbus_externo,conbus_interno):\n",
    "    hoy = datetime.datetime.now()\n",
    "    return f'''Hola viajeros! (O_O) pip pip\n",
    "    ---- Aquí un informe de la mision ----\n",
    "    Este viaje comienza a las {hora_lanzamiento} del dia {hoy.strftime(\"%A %d %B %Y\")}\n",
    "    El tiempo estimado de vuelo es de {tiempo_vuelo} minutos\n",
    "    Nos dirijimos hacia {destino}\n",
    "    El combustible en el tanque externo es de {conbus_externo} %\n",
    "    El combustible en el tanque interno es de {conbus_interno} %\n",
    "    Disfruten su viaje ... pip pip (O_O)'''\n",
    "\n",
    "informe_preciso('10:20','21 horas','Venus','90','50')"
   ]
  },
  {
   "cell_type": "markdown",
   "metadata": {},
   "source": [
    "La función es problemática porque no se puede adaptar para minutos adicionales o tanques adicionales de combustible. Hazlo más flexible permitiendo cualquier número de pasos basados en el tiempo y cualquier número de tanques. En lugar de usar *args y **kwargs, aprovecha el hecho de que puedes usar cualquier nombre que desees. Asegurate que la función sea más legible mediante el uso de nombres de variables que están asociados con las entradas, como *minutes y **fuel_reservoirs:"
   ]
  },
  {
   "cell_type": "code",
   "execution_count": 23,
   "metadata": {},
   "outputs": [
    {
     "data": {
      "text/plain": [
       "'Hola viajeros! (O_O) pip pip\\n    ---- Aquí un informe de la mision ----\\n    Este viaje comienza a las 10:20 del dia Tuesday 15 February 2022\\n    El tiempo estimado de vuelo es de 280 minutos\\n    Nos dirijimos hacia Tron\\n    El total de combustible en los tanques es de 91.66666666666667 %\\n    Disfruten su viaje ... pip pip (O_O)'"
      ]
     },
     "execution_count": 23,
     "metadata": {},
     "output_type": "execute_result"
    }
   ],
   "source": [
    "# Escribe tu nueva función de reporte considerando lo anterior\n",
    "import datetime\n",
    "\n",
    "def informe_preciso_actualizada(destino,hora_lanzamiento,*minutes,**fuel_reservoirs):\n",
    "    hoy = datetime.datetime.now()\n",
    "    fecha_hoy = hoy.strftime(\"%A %d %B %Y\")\n",
    "    return f'''Hola viajeros! (O_O) pip pip\n",
    "    ---- Aquí un informe de la mision ----\n",
    "    Este viaje comienza a las {hora_lanzamiento} del dia {fecha_hoy}\n",
    "    El tiempo estimado de vuelo es de {sum(minutes)} minutos\n",
    "    Nos dirijimos hacia {destino}\n",
    "    El total de combustible en los tanques es de {sum(fuel_reservoirs.values())/len(fuel_reservoirs)} %\n",
    "    Disfruten su viaje ... pip pip (O_O)'''\n",
    "\n",
    "informe_preciso_actualizada('Tron','10:20',15,20,65,180,tanque1=95,tanque2=80,tanque3=100)"
   ]
  },
  {
   "cell_type": "markdown",
   "metadata": {},
   "source": [
    "Debido a que el combustible que queda en los tanques es específico de cada tanque, actualiza la función para usar el nombre de cada tanque en el informe:"
   ]
  },
  {
   "cell_type": "code",
   "execution_count": 38,
   "metadata": {},
   "outputs": [
    {
     "name": "stdout",
     "output_type": "stream",
     "text": [
      "Hola viajeros! (O_O) pip pip\n",
      "    ---- Aquí un informe de la mision ----\n",
      "    Este viaje comienza a las 10:20 del dia Tuesday 15 February 2022\n",
      "    El tiempo estimado de vuelo es de 280 minutos\n",
      "    Nos dirijimos hacia Tron \n",
      "    El total de combustible en los tanques es de 91.66666666666667 % \n",
      "El conbustible en tanque1 es de 95 % \n",
      "El conbustible en tanque2 es de 80 % \n",
      "El conbustible en tanque3 es de 100 % \n",
      "Disfruten su viaje ... pip pip (O_O)\n"
     ]
    }
   ],
   "source": [
    "# Escribe tu nueva función\n",
    "import datetime\n",
    "\n",
    "def informe_preciso_actu(destino,hora_lanzamiento,*minutes,**fuel_reservoirs):\n",
    "    hoy = datetime.datetime.now()\n",
    "    fecha_hoy = hoy.strftime(\"%A %d %B %Y\")\n",
    "    inf_part1 = f'''Hola viajeros! (O_O) pip pip\n",
    "    ---- Aquí un informe de la mision ----\n",
    "    Este viaje comienza a las {hora_lanzamiento} del dia {fecha_hoy}\n",
    "    El tiempo estimado de vuelo es de {sum(minutes)} minutos\n",
    "    Nos dirijimos hacia {destino} \n",
    "    El total de combustible en los tanques es de {sum(fuel_reservoirs.values())/len(fuel_reservoirs)} % \\n''' \n",
    "    inf_part2 = ''\n",
    "    for tanque,combustible in fuel_reservoirs.items():\n",
    "        inf_part2 += f'El conbustible en {tanque} es de {combustible} % \\n'\n",
    "\n",
    "    inf_part3 = 'Disfruten su viaje ... pip pip (O_O)'\n",
    "    print(inf_part1+inf_part2+inf_part3)\n",
    "\n",
    "informe_preciso_actu('Tron','10:20',15,20,65,180,tanque1=95,tanque2=80,tanque3=100)"
   ]
  }
 ],
 "metadata": {
  "interpreter": {
   "hash": "aee8b7b246df8f9039afb4144a1f6fd8d2ca17a180786b69acc140d282b71a49"
  },
  "kernelspec": {
   "display_name": "Python 3.10.2 64-bit",
   "language": "python",
   "name": "python3"
  },
  "language_info": {
   "codemirror_mode": {
    "name": "ipython",
    "version": 3
   },
   "file_extension": ".py",
   "mimetype": "text/x-python",
   "name": "python",
   "nbconvert_exporter": "python",
   "pygments_lexer": "ipython3",
   "version": "3.10.2"
  },
  "orig_nbformat": 4
 },
 "nbformat": 4,
 "nbformat_minor": 2
}
